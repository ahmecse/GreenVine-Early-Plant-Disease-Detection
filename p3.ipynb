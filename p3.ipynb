{
 "cells": [
  {
   "cell_type": "code",
   "execution_count": 3,
   "id": "4352e191",
   "metadata": {},
   "outputs": [],
   "source": [
    "import streamlit as st\n",
    "import numpy as np\n",
    "from PIL import Image\n",
    "import tensorflow as tf\n",
    "import cv2\n",
    "\n",
    "# Function to load your model and make predictions\n",
    "def load_model():\n",
    "    model = tf.keras.models.load_model('my_model.h5')  # Load your trained model\n",
    "    return model\n",
    "\n",
    "def predict(image):\n",
    "    # Preprocess the image (resize, normalize, etc.)\n",
    "    image = cv2.resize(image, (128, 128))  # Adjust to your model's input size\n",
    "    image = image.astype('float32') / 255.0  # Normalize\n",
    "    image = np.expand_dims(image, axis=0)  # Add batch dimension\n",
    "\n",
    "    # Make a prediction\n",
    "    prediction = model.predict(image)\n",
    "\n",
    "    return prediction[0][0]\n",
    "\n",
    "# Streamlit setup\n",
    "st.title(\"Plant Disease Detection\")\n",
    "\n",
    "uploaded_file = st.file_uploader(\"Choose an image...\", type=[\"jpg\", \"png\", \"jpeg\"])\n",
    "\n",
    "if uploaded_file is not None:\n",
    "    # Load the model\n",
    "    model = load_model()\n",
    "\n",
    "    # Read the image file and perform prediction\n",
    "    image = Image.open(uploaded_file)\n",
    "    image = np.array(image)\n",
    "\n",
    "    prediction = predict(image)\n",
    "\n",
    "    # Display the result\n",
    "    if prediction > 0.5:\n",
    "        st.write(\"Prediction: Rust\")\n",
    "    else:\n",
    "        st.write(\"Prediction: Healthy\")"
   ]
  }
 ],
 "metadata": {
  "kernelspec": {
   "display_name": "Python 3 (ipykernel)",
   "language": "python",
   "name": "python3"
  },
  "language_info": {
   "codemirror_mode": {
    "name": "ipython",
    "version": 3
   },
   "file_extension": ".py",
   "mimetype": "text/x-python",
   "name": "python",
   "nbconvert_exporter": "python",
   "pygments_lexer": "ipython3",
   "version": "3.8.4"
  }
 },
 "nbformat": 4,
 "nbformat_minor": 5
}
