{
 "cells": [
  {
   "cell_type": "code",
   "execution_count": 1,
   "id": "4523b8bc",
   "metadata": {},
   "outputs": [],
   "source": [
    "import os"
   ]
  },
  {
   "cell_type": "code",
   "execution_count": 2,
   "id": "f7c9594f",
   "metadata": {},
   "outputs": [],
   "source": [
    "dataset_path = 'C:/pythonn/plant_desease/'"
   ]
  },
  {
   "cell_type": "code",
   "execution_count": 3,
   "id": "c926ca9e",
   "metadata": {},
   "outputs": [],
   "source": [
    "num_healthy_images = len(os.listdir(os.path.join(dataset_path, 'healthy')))\n",
    "num_rust_images = len(os.listdir(os.path.join(dataset_path, 'rust')))"
   ]
  },
  {
   "cell_type": "code",
   "execution_count": 4,
   "id": "c66af65b",
   "metadata": {},
   "outputs": [
    {
     "name": "stdout",
     "output_type": "stream",
     "text": [
      "Number of healthy images: 882\n",
      "Number of rust images: 888\n"
     ]
    }
   ],
   "source": [
    "print(\"Number of healthy images:\", num_healthy_images)\n",
    "print(\"Number of rust images:\", num_rust_images)"
   ]
  },
  {
   "cell_type": "code",
   "execution_count": 9,
   "id": "3d6f1f7c",
   "metadata": {},
   "outputs": [],
   "source": [
    "from tensorflow.keras.preprocessing.image import ImageDataGenerator, load_img, save_img, img_to_array\n",
    "import os\n",
    "\n",
    "healthy_path = 'C:/pythonn/plant_desease/healthy/'\n",
    "rust_path = 'C:/pythonn/plant_desease/rust/'\n",
    "\n",
    "augmented_path = 'C:/pythonn/plant_desease/augmented/'\n",
    "\n",
    "datagen = ImageDataGenerator(\n",
    "    rotation_range=20,\n",
    "    width_shift_range=0.2,\n",
    "    height_shift_range=0.2,\n",
    "    shear_range=0.2,\n",
    "    zoom_range=0.2,\n",
    "    horizontal_flip=True,\n",
    "    vertical_flip=True,\n",
    "    brightness_range=(0.8, 1.2),\n",
    "    fill_mode='nearest'  \n",
    ")\n",
    "\n",
    "healthy_images = os.listdir(healthy_path)\n",
    "rust_images = os.listdir(rust_path)\n",
    "\n",
    "for img_name in healthy_images:\n",
    "    img_path = os.path.join(healthy_path, img_name)\n",
    "    img = load_img(img_path)  \n",
    "    img_array = img_to_array(img) \n",
    "    img_array = datagen.random_transform(img_array)  \n",
    "    img = datagen.standardize(img_array)  \n",
    "    save_path = os.path.join(augmented_path, 'healthy', 'aug_' + img_name)\n",
    "    save_img(save_path, img)\n",
    "\n",
    "for img_name in rust_images:\n",
    "    img_path = os.path.join(rust_path, img_name)\n",
    "    img = load_img(img_path)  \n",
    "    img_array = img_to_array(img)  \n",
    "    img_array = datagen.random_transform(img_array) \n",
    "    img = datagen.standardize(img_array)  \n",
    "    save_path = os.path.join(augmented_path, 'rust', 'aug_' + img_name)\n",
    "    save_img(save_path, img)"
   ]
  }
 ],
 "metadata": {
  "kernelspec": {
   "display_name": "Python 3 (ipykernel)",
   "language": "python",
   "name": "python3"
  },
  "language_info": {
   "codemirror_mode": {
    "name": "ipython",
    "version": 3
   },
   "file_extension": ".py",
   "mimetype": "text/x-python",
   "name": "python",
   "nbconvert_exporter": "python",
   "pygments_lexer": "ipython3",
   "version": "3.8.4"
  }
 },
 "nbformat": 4,
 "nbformat_minor": 5
}
